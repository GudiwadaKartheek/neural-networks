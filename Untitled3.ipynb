{
 "cells": [
  {
   "cell_type": "code",
   "execution_count": 1,
   "id": "188762d2",
   "metadata": {},
   "outputs": [],
   "source": [
    "import numpy as np\n",
    "import pandas as pd\n",
    "import matplotlib.pyplot as plt\n",
    "import math"
   ]
  },
  {
   "cell_type": "code",
   "execution_count": 2,
   "id": "2c55c2da",
   "metadata": {},
   "outputs": [],
   "source": [
    "df = pd.read_csv(r\"C:\\Users\\ADMIN\\Downloads\\linear_train.csv\")"
   ]
  },
  {
   "cell_type": "code",
   "execution_count": 3,
   "id": "1ba710ff",
   "metadata": {},
   "outputs": [
    {
     "data": {
      "text/html": [
       "<div>\n",
       "<style scoped>\n",
       "    .dataframe tbody tr th:only-of-type {\n",
       "        vertical-align: middle;\n",
       "    }\n",
       "\n",
       "    .dataframe tbody tr th {\n",
       "        vertical-align: top;\n",
       "    }\n",
       "\n",
       "    .dataframe thead th {\n",
       "        text-align: right;\n",
       "    }\n",
       "</style>\n",
       "<table border=\"1\" class=\"dataframe\">\n",
       "  <thead>\n",
       "    <tr style=\"text-align: right;\">\n",
       "      <th></th>\n",
       "      <th>Unnamed: 0</th>\n",
       "      <th>A</th>\n",
       "      <th>B</th>\n",
       "      <th>C</th>\n",
       "      <th>D</th>\n",
       "      <th>E</th>\n",
       "      <th>F</th>\n",
       "      <th>G</th>\n",
       "      <th>H</th>\n",
       "      <th>I</th>\n",
       "      <th>...</th>\n",
       "      <th>L</th>\n",
       "      <th>M</th>\n",
       "      <th>N</th>\n",
       "      <th>O</th>\n",
       "      <th>P</th>\n",
       "      <th>Q</th>\n",
       "      <th>R</th>\n",
       "      <th>S</th>\n",
       "      <th>T</th>\n",
       "      <th>label</th>\n",
       "    </tr>\n",
       "  </thead>\n",
       "  <tbody>\n",
       "    <tr>\n",
       "      <th>0</th>\n",
       "      <td>0</td>\n",
       "      <td>-284.685568</td>\n",
       "      <td>284.567363</td>\n",
       "      <td>18.462706</td>\n",
       "      <td>0.012380</td>\n",
       "      <td>-52.394580</td>\n",
       "      <td>-0.942413</td>\n",
       "      <td>6.746190</td>\n",
       "      <td>19.595626</td>\n",
       "      <td>554.989342</td>\n",
       "      <td>...</td>\n",
       "      <td>33.451992</td>\n",
       "      <td>-9.171214</td>\n",
       "      <td>528.122484</td>\n",
       "      <td>-1959.593876</td>\n",
       "      <td>-47.348529</td>\n",
       "      <td>767.129260</td>\n",
       "      <td>-12.001084</td>\n",
       "      <td>83.978055</td>\n",
       "      <td>737.317448</td>\n",
       "      <td>-218.016231</td>\n",
       "    </tr>\n",
       "    <tr>\n",
       "      <th>1</th>\n",
       "      <td>1</td>\n",
       "      <td>-428.480005</td>\n",
       "      <td>307.240676</td>\n",
       "      <td>22.632897</td>\n",
       "      <td>-0.099657</td>\n",
       "      <td>6.294685</td>\n",
       "      <td>30.440746</td>\n",
       "      <td>95.919775</td>\n",
       "      <td>-52.450992</td>\n",
       "      <td>-872.531179</td>\n",
       "      <td>...</td>\n",
       "      <td>14.848331</td>\n",
       "      <td>-33.556867</td>\n",
       "      <td>-569.261772</td>\n",
       "      <td>-2014.463089</td>\n",
       "      <td>20.042132</td>\n",
       "      <td>769.298704</td>\n",
       "      <td>18.057370</td>\n",
       "      <td>-55.521630</td>\n",
       "      <td>775.407458</td>\n",
       "      <td>154.140849</td>\n",
       "    </tr>\n",
       "    <tr>\n",
       "      <th>2</th>\n",
       "      <td>2</td>\n",
       "      <td>-25.800879</td>\n",
       "      <td>237.433758</td>\n",
       "      <td>-0.467505</td>\n",
       "      <td>-0.115813</td>\n",
       "      <td>-7.837079</td>\n",
       "      <td>21.598922</td>\n",
       "      <td>158.095089</td>\n",
       "      <td>2.554397</td>\n",
       "      <td>136.298244</td>\n",
       "      <td>...</td>\n",
       "      <td>-12.662449</td>\n",
       "      <td>28.956309</td>\n",
       "      <td>1069.504591</td>\n",
       "      <td>-1932.524770</td>\n",
       "      <td>18.419684</td>\n",
       "      <td>781.523541</td>\n",
       "      <td>70.652625</td>\n",
       "      <td>302.121708</td>\n",
       "      <td>810.402101</td>\n",
       "      <td>394.849701</td>\n",
       "    </tr>\n",
       "    <tr>\n",
       "      <th>3</th>\n",
       "      <td>3</td>\n",
       "      <td>-292.645787</td>\n",
       "      <td>249.444200</td>\n",
       "      <td>-3.661449</td>\n",
       "      <td>0.020113</td>\n",
       "      <td>-4.273514</td>\n",
       "      <td>21.421400</td>\n",
       "      <td>71.012817</td>\n",
       "      <td>49.089192</td>\n",
       "      <td>-444.041731</td>\n",
       "      <td>...</td>\n",
       "      <td>-1.741291</td>\n",
       "      <td>-65.225030</td>\n",
       "      <td>-35.017662</td>\n",
       "      <td>-1987.750883</td>\n",
       "      <td>32.222111</td>\n",
       "      <td>774.167118</td>\n",
       "      <td>-38.784611</td>\n",
       "      <td>-171.210149</td>\n",
       "      <td>793.225247</td>\n",
       "      <td>-83.932183</td>\n",
       "    </tr>\n",
       "    <tr>\n",
       "      <th>4</th>\n",
       "      <td>4</td>\n",
       "      <td>-264.114362</td>\n",
       "      <td>259.031693</td>\n",
       "      <td>-17.772049</td>\n",
       "      <td>-0.108774</td>\n",
       "      <td>6.512923</td>\n",
       "      <td>13.657296</td>\n",
       "      <td>78.446286</td>\n",
       "      <td>20.942401</td>\n",
       "      <td>-257.340694</td>\n",
       "      <td>...</td>\n",
       "      <td>17.309833</td>\n",
       "      <td>17.309769</td>\n",
       "      <td>-1086.046476</td>\n",
       "      <td>-2040.302324</td>\n",
       "      <td>22.900939</td>\n",
       "      <td>809.692581</td>\n",
       "      <td>-32.675473</td>\n",
       "      <td>104.996827</td>\n",
       "      <td>841.923375</td>\n",
       "      <td>-120.640357</td>\n",
       "    </tr>\n",
       "  </tbody>\n",
       "</table>\n",
       "<p>5 rows × 22 columns</p>\n",
       "</div>"
      ],
      "text/plain": [
       "   Unnamed: 0           A           B          C         D          E  \\\n",
       "0           0 -284.685568  284.567363  18.462706  0.012380 -52.394580   \n",
       "1           1 -428.480005  307.240676  22.632897 -0.099657   6.294685   \n",
       "2           2  -25.800879  237.433758  -0.467505 -0.115813  -7.837079   \n",
       "3           3 -292.645787  249.444200  -3.661449  0.020113  -4.273514   \n",
       "4           4 -264.114362  259.031693 -17.772049 -0.108774   6.512923   \n",
       "\n",
       "           F           G          H           I  ...          L          M  \\\n",
       "0  -0.942413    6.746190  19.595626  554.989342  ...  33.451992  -9.171214   \n",
       "1  30.440746   95.919775 -52.450992 -872.531179  ...  14.848331 -33.556867   \n",
       "2  21.598922  158.095089   2.554397  136.298244  ... -12.662449  28.956309   \n",
       "3  21.421400   71.012817  49.089192 -444.041731  ...  -1.741291 -65.225030   \n",
       "4  13.657296   78.446286  20.942401 -257.340694  ...  17.309833  17.309769   \n",
       "\n",
       "             N            O          P           Q          R           S  \\\n",
       "0   528.122484 -1959.593876 -47.348529  767.129260 -12.001084   83.978055   \n",
       "1  -569.261772 -2014.463089  20.042132  769.298704  18.057370  -55.521630   \n",
       "2  1069.504591 -1932.524770  18.419684  781.523541  70.652625  302.121708   \n",
       "3   -35.017662 -1987.750883  32.222111  774.167118 -38.784611 -171.210149   \n",
       "4 -1086.046476 -2040.302324  22.900939  809.692581 -32.675473  104.996827   \n",
       "\n",
       "            T       label  \n",
       "0  737.317448 -218.016231  \n",
       "1  775.407458  154.140849  \n",
       "2  810.402101  394.849701  \n",
       "3  793.225247  -83.932183  \n",
       "4  841.923375 -120.640357  \n",
       "\n",
       "[5 rows x 22 columns]"
      ]
     },
     "execution_count": 3,
     "metadata": {},
     "output_type": "execute_result"
    }
   ],
   "source": [
    "df.head()"
   ]
  },
  {
   "cell_type": "code",
   "execution_count": 4,
   "id": "368a74e6",
   "metadata": {},
   "outputs": [],
   "source": [
    "X = df.iloc[:,1:21].values"
   ]
  },
  {
   "cell_type": "code",
   "execution_count": 5,
   "id": "f8bed8a0",
   "metadata": {},
   "outputs": [],
   "source": [
    "y = df.iloc[:,21:22].values"
   ]
  },
  {
   "cell_type": "code",
   "execution_count": 6,
   "id": "096ae969",
   "metadata": {},
   "outputs": [
    {
     "data": {
      "text/plain": [
       "(50000, 1)"
      ]
     },
     "execution_count": 6,
     "metadata": {},
     "output_type": "execute_result"
    }
   ],
   "source": [
    "y.shape"
   ]
  },
  {
   "cell_type": "code",
   "execution_count": 7,
   "id": "f94ebe1c",
   "metadata": {},
   "outputs": [
    {
     "name": "stdout",
     "output_type": "stream",
     "text": [
      "[[-2.84685568e+02  2.84567363e+02  1.84627063e+01 ... -1.20010842e+01\n",
      "   8.39780551e+01  7.37317448e+02]\n",
      " [-4.28480005e+02  3.07240676e+02  2.26328973e+01 ...  1.80573704e+01\n",
      "  -5.55216301e+01  7.75407458e+02]\n",
      " [-2.58008787e+01  2.37433758e+02 -4.67504670e-01 ...  7.06526251e+01\n",
      "   3.02121708e+02  8.10402101e+02]\n",
      " ...\n",
      " [-2.54691431e+02  2.56793278e+02  2.31974534e+01 ... -2.30785214e+01\n",
      "   1.88422643e+02  7.48559054e+02]\n",
      " [ 7.10054262e+02  2.57565009e+02 -1.63356012e+01 ...  1.52388356e+01\n",
      "   8.95278167e+01  7.57012968e+02]\n",
      " [-2.69821407e+02  2.81097270e+02 -3.05824270e+01 ...  8.34763802e+00\n",
      "   1.44270028e+02  7.32900535e+02]]\n"
     ]
    }
   ],
   "source": [
    "print(X)"
   ]
  },
  {
   "cell_type": "code",
   "execution_count": 8,
   "id": "d5db3611",
   "metadata": {},
   "outputs": [
    {
     "name": "stdout",
     "output_type": "stream",
     "text": [
      "[[-218.01623149]\n",
      " [ 154.14084898]\n",
      " [ 394.84970115]\n",
      " ...\n",
      " [  -3.44448897]\n",
      " [ 445.35678148]\n",
      " [-500.9246807 ]]\n"
     ]
    }
   ],
   "source": [
    "print(y)"
   ]
  },
  {
   "cell_type": "code",
   "execution_count": 9,
   "id": "b1e6572c",
   "metadata": {},
   "outputs": [],
   "source": [
    "x_train,x_cv = X[0:40000],X[40000:50000]\n",
    "y_train,y_cv = y[0:40000],y[40000:50000]"
   ]
  },
  {
   "cell_type": "code",
   "execution_count": 10,
   "id": "492d4963",
   "metadata": {},
   "outputs": [
    {
     "data": {
      "text/plain": [
       "(40000, 20)"
      ]
     },
     "execution_count": 10,
     "metadata": {},
     "output_type": "execute_result"
    }
   ],
   "source": [
    "x_train.shape"
   ]
  },
  {
   "cell_type": "code",
   "execution_count": 11,
   "id": "a49ae58a",
   "metadata": {},
   "outputs": [
    {
     "data": {
      "text/plain": [
       "(10000, 20)"
      ]
     },
     "execution_count": 11,
     "metadata": {},
     "output_type": "execute_result"
    }
   ],
   "source": [
    "x_cv.shape"
   ]
  },
  {
   "cell_type": "code",
   "execution_count": 12,
   "id": "2a646bcb",
   "metadata": {},
   "outputs": [
    {
     "data": {
      "text/plain": [
       "(40000, 1)"
      ]
     },
     "execution_count": 12,
     "metadata": {},
     "output_type": "execute_result"
    }
   ],
   "source": [
    "y_train.shape"
   ]
  },
  {
   "cell_type": "code",
   "execution_count": 13,
   "id": "916cd936",
   "metadata": {},
   "outputs": [
    {
     "data": {
      "text/plain": [
       "(10000, 1)"
      ]
     },
     "execution_count": 13,
     "metadata": {},
     "output_type": "execute_result"
    }
   ],
   "source": [
    "y_cv.shape"
   ]
  },
  {
   "cell_type": "code",
   "execution_count": 14,
   "id": "988e0f2d",
   "metadata": {},
   "outputs": [],
   "source": [
    "x_train_mean = np.mean(x_train,axis=0)\n",
    "x_train_std = np.std(x_train,axis=0)"
   ]
  },
  {
   "cell_type": "code",
   "execution_count": 15,
   "id": "7e1edd6c",
   "metadata": {},
   "outputs": [],
   "source": [
    "x_train =(x_train- x_train_mean)/x_train_std"
   ]
  },
  {
   "cell_type": "code",
   "execution_count": 16,
   "id": "da3a5905",
   "metadata": {},
   "outputs": [
    {
     "name": "stdout",
     "output_type": "stream",
     "text": [
      "[[-0.99549593  1.21027335  0.64834661 ... -0.42441636  0.14722574\n",
      "  -1.81848596]\n",
      " [-1.49826106  2.00467979  0.79436899 ...  0.62845978 -0.83063561\n",
      "  -0.48231347]\n",
      " [-0.09032744 -0.44115006 -0.01450902 ...  2.47074639  1.67636357\n",
      "   0.74527559]\n",
      " ...\n",
      " [-1.45255218  0.01355391  0.55979535 ...  0.32655162  0.71359183\n",
      "   1.56541815]\n",
      " [-1.19767457  0.5319845  -0.60021015 ... -0.10605766 -0.1153389\n",
      "   2.73040872]\n",
      " [-0.82824099 -0.30768513 -0.85518834 ... -0.91774367  0.69129385\n",
      "  -0.54516028]]\n"
     ]
    }
   ],
   "source": [
    "print(x_train)"
   ]
  },
  {
   "cell_type": "code",
   "execution_count": 17,
   "id": "c9001985",
   "metadata": {},
   "outputs": [
    {
     "name": "stdout",
     "output_type": "stream",
     "text": [
      "[[-218.01623149]\n",
      " [ 154.14084898]\n",
      " [ 394.84970115]\n",
      " ...\n",
      " [ 314.17649303]\n",
      " [ -33.78455747]\n",
      " [-360.50156262]]\n"
     ]
    }
   ],
   "source": [
    "print(y_train)"
   ]
  },
  {
   "cell_type": "code",
   "execution_count": 18,
   "id": "fa6fdd41",
   "metadata": {},
   "outputs": [
    {
     "data": {
      "text/plain": [
       "(40000, 20)"
      ]
     },
     "execution_count": 18,
     "metadata": {},
     "output_type": "execute_result"
    }
   ],
   "source": [
    "x_train.shape"
   ]
  },
  {
   "cell_type": "code",
   "execution_count": 19,
   "id": "0042d152",
   "metadata": {},
   "outputs": [],
   "source": [
    "def mse(a,y):\n",
    "    m = y.shape[0]\n",
    "    cost = np.sum((a-y)**2)/(2*m) \n",
    "    return cost\n",
    "    "
   ]
  },
  {
   "cell_type": "code",
   "execution_count": 20,
   "id": "49501e81",
   "metadata": {},
   "outputs": [
    {
     "data": {
      "text/plain": [
       "0.5"
      ]
     },
     "execution_count": 20,
     "metadata": {},
     "output_type": "execute_result"
    }
   ],
   "source": [
    "mse(np.array([1,2]),np.array([2,1]))"
   ]
  },
  {
   "cell_type": "code",
   "execution_count": 21,
   "id": "b4156064",
   "metadata": {},
   "outputs": [],
   "source": [
    "def relu(z):\n",
    "    k = z.shape\n",
    "    rel = np.maximum(np.zeros(k),z)\n",
    "    return rel"
   ]
  },
  {
   "cell_type": "code",
   "execution_count": 22,
   "id": "a365f6a2",
   "metadata": {},
   "outputs": [],
   "source": [
    "def lin(z):\n",
    "    return z"
   ]
  },
  {
   "cell_type": "code",
   "execution_count": 23,
   "id": "b1f150c5",
   "metadata": {},
   "outputs": [
    {
     "data": {
      "text/plain": [
       "array([[1., 0., 2., 6.],\n",
       "       [1., 0., 6., 0.]])"
      ]
     },
     "execution_count": 23,
     "metadata": {},
     "output_type": "execute_result"
    }
   ],
   "source": [
    "z=np.array([[1,-1,2,6],[1,0,6,-9]])\n",
    "relu(z)\n"
   ]
  },
  {
   "cell_type": "code",
   "execution_count": 24,
   "id": "009caecb",
   "metadata": {},
   "outputs": [
    {
     "data": {
      "text/plain": [
       "array([[ 1, -1,  2,  6],\n",
       "       [ 1,  0,  6, -9]])"
      ]
     },
     "execution_count": 24,
     "metadata": {},
     "output_type": "execute_result"
    }
   ],
   "source": [
    "lin(z)"
   ]
  },
  {
   "cell_type": "code",
   "execution_count": 25,
   "id": "3273bbe7",
   "metadata": {},
   "outputs": [],
   "source": [
    "def dense (x,w,b,act):\n",
    "    f_x = np.dot(x,w)+b\n",
    "    a = act(f_x)\n",
    "    return a"
   ]
  },
  {
   "cell_type": "code",
   "execution_count": 53,
   "id": "42ffecfb",
   "metadata": {},
   "outputs": [],
   "source": [
    "def sequential(x,w1,b1,dense,w2,b2):\n",
    "    a1 = dense(x,w1,b1,relu)\n",
    "    a2 = dense(a1,w2,b2,lin)\n",
    "    return a2"
   ]
  },
  {
   "cell_type": "code",
   "execution_count": 91,
   "id": "ce73a437",
   "metadata": {},
   "outputs": [],
   "source": [
    "def backprop(x,w1,a1,b1,w2,a2,b2,w3,a3,b3,y):\n",
    "                    m = y.shape[0]\n",
    "                    dz3 = a3-y\n",
    "                    dw3 =np.dot(a2.T,dz3)/m\n",
    "                    db3 = np.sum(dz3,keepdims=True)/m\n",
    "                    dz2 = np.dot(dz3,w3.T)/m\n",
    "                    dw2 =np.dot(a1.T,dz2)/m\n",
    "                    db2 = np.sum(dz2,keepdims=True)/m\n",
    "                    dz1 = np.dot(dz2,w2.T)\n",
    "                    dw1 =np.dot(x.T,dz1)/m\n",
    "                    db1 = np.sum(dz1,keepdims=True)/m\n",
    "                    return dw3,db2,dw2,db2,dw1,db1"
   ]
  },
  {
   "cell_type": "code",
   "execution_count": 118,
   "id": "3359e2a0",
   "metadata": {},
   "outputs": [],
   "source": [
    "def gradient_descent(x,y,w1,b1,w2,b2,w3,b3,dense,backprop,alpha,epoch):\n",
    "    J_history=[]\n",
    "    for i in range (epoch):\n",
    "                           a1 = dense(x,w1,b1,lin)\n",
    "                           a2 = dense(a1,w2,b2,lin)\n",
    "                           a3 = dense(a2,w3,b3,lin)\n",
    "                           cost = mse(a3,y)\n",
    "                           J_history.append(cost)\n",
    "                           dw3,db3,dw2,db2,dw1,db1=backprop(x,w1,a1,b1,w2,a2,b2,w3,a3,b3,y)\n",
    "                           w3 = w3-alpha*dw3\n",
    "                           b3 = b3-alpha*db3\n",
    "                           w2 = w2-alpha*dw2\n",
    "                           b2 = b2-alpha*db2\n",
    "                           w1 = w1-alpha*dw1\n",
    "                           b1 = b1-alpha*db1\n",
    "                           if i % math.ceil((epoch/10)) ==0:  \n",
    "                               print('epoch',i ,'cost :',J_history[i])\n",
    "    return a3,w3,b3,w2,b2,w1,b1,J_history         "
   ]
  },
  {
   "cell_type": "code",
   "execution_count": 119,
   "id": "c83a73aa",
   "metadata": {},
   "outputs": [
    {
     "data": {
      "text/plain": [
       "{'divide': 'ignore', 'over': 'ignore', 'under': 'ignore', 'invalid': 'ignore'}"
      ]
     },
     "execution_count": 119,
     "metadata": {},
     "output_type": "execute_result"
    }
   ],
   "source": [
    "W1 = np.random.rand(20,50)\n",
    "B1 = np.random.rand(1,50)\n",
    "W2 = np.random.rand(50,10)\n",
    "B2 = np.random.rand(1,10)\n",
    "W3 = np.random.rand(10,1)\n",
    "B3 = np.random.rand(1,1)\n",
    "\n",
    "np.seterr(all='ignore')"
   ]
  },
  {
   "cell_type": "code",
   "execution_count": 120,
   "id": "29265ce9",
   "metadata": {},
   "outputs": [
    {
     "name": "stdout",
     "output_type": "stream",
     "text": [
      "epoch 0 cost : 12576.795861306033\n",
      "epoch 1 cost : 2686142687.9223666\n",
      "epoch 2 cost : 8.73773838001125e+25\n",
      "epoch 3 cost : 7.846660859491036e+109\n",
      "epoch 4 cost : inf\n",
      "epoch 5 cost : nan\n",
      "epoch 6 cost : nan\n",
      "epoch 7 cost : nan\n",
      "epoch 8 cost : nan\n",
      "epoch 9 cost : nan\n"
     ]
    }
   ],
   "source": [
    "alpha = 0.1\n",
    "epoch = 10\n",
    "a3,w3,b3,w2,b2,w1,b1,J_history =gradient_descent(x_train,y_train,W1,B1,W2,B2,W3,B3,dense,backprop,alpha,epoch)"
   ]
  },
  {
   "cell_type": "code",
   "execution_count": null,
   "id": "b7ea05e4",
   "metadata": {},
   "outputs": [],
   "source": [
    "J_history[99]"
   ]
  },
  {
   "cell_type": "code",
   "execution_count": null,
   "id": "f92e475b",
   "metadata": {},
   "outputs": [],
   "source": []
  }
 ],
 "metadata": {
  "kernelspec": {
   "display_name": "Python 3 (ipykernel)",
   "language": "python",
   "name": "python3"
  },
  "language_info": {
   "codemirror_mode": {
    "name": "ipython",
    "version": 3
   },
   "file_extension": ".py",
   "mimetype": "text/x-python",
   "name": "python",
   "nbconvert_exporter": "python",
   "pygments_lexer": "ipython3",
   "version": "3.11.1"
  }
 },
 "nbformat": 4,
 "nbformat_minor": 5
}
